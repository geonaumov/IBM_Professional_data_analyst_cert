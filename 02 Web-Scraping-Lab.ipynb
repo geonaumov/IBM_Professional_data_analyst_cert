{
 "cells": [
  {
   "attachments": {},
   "cell_type": "markdown",
   "metadata": {
    "datalore": {
     "hide_input_from_viewers": false,
     "hide_output_from_viewers": false,
     "node_id": "vubc57N01udfxYNXCtnNSv",
     "report_properties": {
      "rowId": "ISzDcevvEn1Et13DYym3tI"
     },
     "type": "MD"
    }
   },
   "source": [
    "# **Hands-on Lab : Web Scraping**"
   ]
  },
  {
   "attachments": {},
   "cell_type": "markdown",
   "metadata": {
    "datalore": {
     "hide_input_from_viewers": false,
     "hide_output_from_viewers": false,
     "node_id": "OqGIXg9Wj0Dt6hQiTbVSfc",
     "report_properties": {
      "rowId": "ura6rWGufgrDMaqAG28LTz"
     },
     "type": "MD"
    }
   },
   "source": [
    "Estimated time needed: **30 to 45** minutes"
   ]
  },
  {
   "attachments": {},
   "cell_type": "markdown",
   "metadata": {
    "datalore": {
     "hide_input_from_viewers": false,
     "hide_output_from_viewers": false,
     "node_id": "VOvxGcB5mBxN1Sl4XIds1Y",
     "report_properties": {
      "rowId": "1vasHavjar314StQOwneFD"
     },
     "type": "MD"
    }
   },
   "source": [
    "## Objectives"
   ]
  },
  {
   "attachments": {},
   "cell_type": "markdown",
   "metadata": {
    "datalore": {
     "hide_input_from_viewers": false,
     "hide_output_from_viewers": false,
     "node_id": "BrPEp1YyV7jreor6AnZ6lU",
     "report_properties": {
      "rowId": "iD09gmQjJM8PL4MCqB6pCT"
     },
     "type": "MD"
    }
   },
   "source": [
    "In this lab you will perform the following:"
   ]
  },
  {
   "attachments": {},
   "cell_type": "markdown",
   "metadata": {
    "datalore": {
     "hide_input_from_viewers": false,
     "hide_output_from_viewers": false,
     "node_id": "Njfil0KMggpdIKcHBD41bh",
     "report_properties": {
      "rowId": "k9xVTVNE0DnHQFUYGb9lEW"
     },
     "type": "MD"
    }
   },
   "source": [
    "* Extract information from a given web site \n",
    "* Write the scraped data into a csv file."
   ]
  },
  {
   "attachments": {},
   "cell_type": "markdown",
   "metadata": {
    "datalore": {
     "hide_input_from_viewers": false,
     "hide_output_from_viewers": false,
     "node_id": "TEGfDnRIN7DqDIYNwSjcH6",
     "report_properties": {
      "rowId": "7dOjVe3oZf4sBnBiAAWT7I"
     },
     "type": "MD"
    }
   },
   "source": [
    "## Extract information from the given web site\n",
    "You will extract the data from the below web site: <br> "
   ]
  },
  {
   "cell_type": "code",
   "execution_count": 1,
   "metadata": {
    "ExecuteTime": {
     "end_time": "2024-07-25T16:22:28.889553Z",
     "start_time": "2024-07-25T16:22:28.887227Z"
    },
    "datalore": {
     "hide_input_from_viewers": false,
     "hide_output_from_viewers": false,
     "node_id": "Sx9O2Z5CLo6Vv8v2h2oUwj",
     "report_properties": {
      "rowId": "8xPx2ubmf0yHD8fMGURE3D"
     },
     "type": "CODE"
    }
   },
   "outputs": [],
   "source": [
    "import csv\n",
    "\n",
    "#this url contains the data you need to scrape\n",
    "url = \"https://cf-courses-data.s3.us.cloud-object-storage.appdomain.cloud/IBM-DA0321EN-SkillsNetwork/labs/datasets/Programming_Languages.html\""
   ]
  },
  {
   "attachments": {},
   "cell_type": "markdown",
   "metadata": {
    "datalore": {
     "hide_input_from_viewers": false,
     "hide_output_from_viewers": false,
     "node_id": "oqoL2wtnmLO1WG5dxpSxb8",
     "report_properties": {
      "rowId": "i6JGSEAqERWF42A4QqD6HE"
     },
     "type": "MD"
    }
   },
   "source": [
    "The data you need to scrape is the **name of the programming language** and **average annual salary**.<br> It is a good idea to open the url in your web broswer and study the contents of the web page before you start to scrape."
   ]
  },
  {
   "attachments": {},
   "cell_type": "markdown",
   "metadata": {
    "datalore": {
     "hide_input_from_viewers": false,
     "hide_output_from_viewers": false,
     "node_id": "XZT1IwzbUlJzrB0cWAjM3B",
     "report_properties": {
      "rowId": "2ts01M7H0vcwfeqe6uUol4"
     },
     "type": "MD"
    }
   },
   "source": [
    "Import the required libraries"
   ]
  },
  {
   "cell_type": "code",
   "execution_count": 2,
   "metadata": {
    "ExecuteTime": {
     "end_time": "2024-07-25T16:22:28.976516Z",
     "start_time": "2024-07-25T16:22:28.919819Z"
    },
    "datalore": {
     "hide_input_from_viewers": false,
     "hide_output_from_viewers": false,
     "node_id": "rYn4RcIzd4ysjxEBrn48z5",
     "report_properties": {
      "rowId": "Tc3JSTHKvBomPQyEgifIIA"
     },
     "type": "CODE"
    }
   },
   "outputs": [],
   "source": [
    "# Your code here\n",
    "import wget\n",
    "from bs4 import BeautifulSoup\n"
   ]
  },
  {
   "attachments": {},
   "cell_type": "markdown",
   "metadata": {
    "datalore": {
     "hide_input_from_viewers": false,
     "hide_output_from_viewers": false,
     "node_id": "p9GFrYXJNF7cALwcMk3xxV",
     "report_properties": {
      "rowId": "ockPeSJBZmD5Z25sDqIyNv"
     },
     "type": "MD"
    }
   },
   "source": [
    "Download the webpage at the url"
   ]
  },
  {
   "cell_type": "code",
   "execution_count": 3,
   "metadata": {
    "ExecuteTime": {
     "end_time": "2024-07-25T16:22:30.508792Z",
     "start_time": "2024-07-25T16:22:28.977591Z"
    },
    "datalore": {
     "hide_input_from_viewers": false,
     "hide_output_from_viewers": false,
     "node_id": "g8hldSF6eVjCwxn8ddCLw6",
     "report_properties": {
      "rowId": "PYUVxzsAvcUUKUn9kLLiye"
     },
     "type": "CODE"
    }
   },
   "outputs": [
    {
     "data": {
      "text/plain": [
       "'Programming_Languages (1).html'"
      ]
     },
     "execution_count": 3,
     "metadata": {},
     "output_type": "execute_result"
    }
   ],
   "source": [
    "#your code goes here\n",
    "filename = wget.download(url)\n",
    "filename\n"
   ]
  },
  {
   "attachments": {},
   "cell_type": "markdown",
   "metadata": {
    "datalore": {
     "hide_input_from_viewers": false,
     "hide_output_from_viewers": false,
     "node_id": "1U7ZFlIaVaM4qzvo6SCj6j",
     "report_properties": {
      "rowId": "tt3w9AKTYEtqERtARea4Vt"
     },
     "type": "MD"
    }
   },
   "source": [
    "Create a soup object"
   ]
  },
  {
   "cell_type": "code",
   "execution_count": 24,
   "metadata": {
    "ExecuteTime": {
     "end_time": "2024-07-25T16:27:57.690104Z",
     "start_time": "2024-07-25T16:27:57.681708Z"
    },
    "datalore": {
     "hide_input_from_viewers": false,
     "hide_output_from_viewers": false,
     "node_id": "95tE8JmNt2YcZ3xIriTLP7",
     "report_properties": {
      "rowId": "xIV1dBUxopZtfDsXPU8Rjb"
     },
     "type": "CODE"
    }
   },
   "outputs": [
    {
     "data": {
      "text/plain": [
       "[<table>\n",
       " <tbody>\n",
       " <tr>\n",
       " <td>No.</td>\n",
       " <td>Language</td>\n",
       " <td>Created By</td>\n",
       " <td>Average Annual Salary</td>\n",
       " <td>Learning Difficulty</td>\n",
       " </tr>\n",
       " <tr>\n",
       " <td>1</td>\n",
       " <td>Python</td>\n",
       " <td>Guido van Rossum</td>\n",
       " <td>$114,383</td>\n",
       " <td>Easy</td>\n",
       " </tr>\n",
       " <tr>\n",
       " <td>2</td>\n",
       " <td>Java</td>\n",
       " <td>James Gosling</td>\n",
       " <td>$101,013</td>\n",
       " <td>Easy</td>\n",
       " </tr>\n",
       " <tr>\n",
       " <td>3</td>\n",
       " <td>R</td>\n",
       " <td>Robert Gentleman, Ross Ihaka</td>\n",
       " <td>$92,037</td>\n",
       " <td>Hard</td>\n",
       " </tr>\n",
       " <tr>\n",
       " <td>4</td>\n",
       " <td>Javascript</td>\n",
       " <td>Netscape</td>\n",
       " <td>$110,981</td>\n",
       " <td>Easy</td>\n",
       " </tr>\n",
       " <tr>\n",
       " <td>5</td>\n",
       " <td>Swift</td>\n",
       " <td>Apple</td>\n",
       " <td>$130,801</td>\n",
       " <td>Easy</td>\n",
       " </tr>\n",
       " <tr>\n",
       " <td>6</td>\n",
       " <td>C++</td>\n",
       " <td>Bjarne Stroustrup</td>\n",
       " <td>$113,865</td>\n",
       " <td>Hard</td>\n",
       " </tr>\n",
       " <tr>\n",
       " <td>7</td>\n",
       " <td>C#</td>\n",
       " <td>Microsoft</td>\n",
       " <td>$88,726</td>\n",
       " <td>Hard</td>\n",
       " </tr>\n",
       " <tr>\n",
       " <td>8</td>\n",
       " <td>PHP</td>\n",
       " <td>Rasmus Lerdorf</td>\n",
       " <td>$84,727</td>\n",
       " <td>Easy</td>\n",
       " </tr>\n",
       " <tr>\n",
       " <td>9</td>\n",
       " <td>SQL</td>\n",
       " <td>Donald D. Chamberlin, Raymond F. Boyce.</td>\n",
       " <td>$84,793</td>\n",
       " <td>Easy</td>\n",
       " </tr>\n",
       " <tr>\n",
       " <td>10</td>\n",
       " <td>Go</td>\n",
       " <td>Robert Griesemer, Ken Thompson, Rob Pike.</td>\n",
       " <td>$94,082</td>\n",
       " <td>Difficult</td>\n",
       " </tr>\n",
       " </tbody>\n",
       " </table>]"
      ]
     },
     "execution_count": 24,
     "metadata": {},
     "output_type": "execute_result"
    }
   ],
   "source": [
    "#your code goes here\n",
    "with open(\"Programming_Languages.html\") as file:\n",
    "    soup = BeautifulSoup(file, 'html.parser')\n",
    "    table = soup.find_all('table')\n",
    "\n",
    "table"
   ]
  },
  {
   "attachments": {},
   "cell_type": "markdown",
   "metadata": {
    "datalore": {
     "hide_input_from_viewers": false,
     "hide_output_from_viewers": false,
     "node_id": "UgEYa3CJUGjybb0b4b7Qaq",
     "report_properties": {
      "rowId": "iqEuicM2MjuO94RAOMM7ml"
     },
     "type": "MD"
    }
   },
   "source": [
    "Scrape the `Language name` and `annual average salary`."
   ]
  },
  {
   "cell_type": "code",
   "execution_count": 25,
   "metadata": {
    "ExecuteTime": {
     "end_time": "2024-07-25T16:28:06.996820Z",
     "start_time": "2024-07-25T16:28:06.992210Z"
    },
    "datalore": {
     "hide_input_from_viewers": false,
     "hide_output_from_viewers": false,
     "node_id": "dxT1paEz1OpLSd2fGZFKWB",
     "report_properties": {
      "rowId": "Ea9jC6S0e22JHZPc5X0Ban"
     },
     "type": "CODE"
    }
   },
   "outputs": [
    {
     "name": "stdout",
     "output_type": "stream",
     "text": [
      "Language Average Annual Salary\n",
      "Python $114,383\n",
      "Java $101,013\n",
      "R $92,037\n",
      "Javascript $110,981\n",
      "Swift $130,801\n",
      "C++ $113,865\n",
      "C# $88,726\n",
      "PHP $84,727\n",
      "SQL $84,793\n",
      "Go $94,082\n"
     ]
    }
   ],
   "source": [
    "#your code goes here\n",
    "for row in soup.find_all('tr'):\n",
    "    cols = row.find_all('td')\n",
    "    lang = cols[1].getText() # store the value in column 3 as color_name\n",
    "    avg_salary = cols[3].getText()\n",
    "    print(lang, avg_salary)"
   ]
  },
  {
   "cell_type": "markdown",
   "metadata": {},
   "source": []
  },
  {
   "attachments": {},
   "cell_type": "markdown",
   "metadata": {
    "datalore": {
     "hide_input_from_viewers": false,
     "hide_output_from_viewers": false,
     "node_id": "3Vl2J4RCtbpNu36fZlEjRX",
     "report_properties": {
      "rowId": "crlTbQGd0BGydSqmr8oYcE"
     },
     "type": "MD"
    }
   },
   "source": [
    "Save the scrapped data into a file named *popular-languages.csv*"
   ]
  },
  {
   "cell_type": "code",
   "execution_count": 36,
   "metadata": {
    "ExecuteTime": {
     "end_time": "2024-07-25T16:36:21.077697Z",
     "start_time": "2024-07-25T16:36:21.072741Z"
    }
   },
   "outputs": [],
   "source": [
    "import csv \n",
    "\n",
    "with open('popular-languages.csv', 'w', newline='') as file:\n",
    "    writer = csv.writer(file)\n",
    "    for row in soup.find_all('tr'):\n",
    "        cols = row.find_all('td')\n",
    "        lang = cols[1].getText() # store the value in column 3 as color_name\n",
    "        avg_salary = cols[3].getText()\n",
    "        writer.writerow([lang, avg_salary])"
   ]
  },
  {
   "attachments": {},
   "cell_type": "markdown",
   "metadata": {
    "datalore": {
     "hide_input_from_viewers": false,
     "hide_output_from_viewers": false,
     "node_id": "v7k9dQS3nJMbYgAFDZx3mM",
     "report_properties": {
      "rowId": "kTuB0uCJkgqTvLZS3ixXjG"
     },
     "type": "MD"
    }
   },
   "source": [
    "## Authors"
   ]
  },
  {
   "attachments": {},
   "cell_type": "markdown",
   "metadata": {
    "datalore": {
     "hide_input_from_viewers": false,
     "hide_output_from_viewers": false,
     "node_id": "Zu3apIgxywBjuuTrQbkML1",
     "report_properties": {
      "rowId": "XkchDreJrBaRXwHFaVHLJo"
     },
     "type": "MD"
    }
   },
   "source": [
    "Ramesh Sannareddy"
   ]
  },
  {
   "attachments": {},
   "cell_type": "markdown",
   "metadata": {
    "datalore": {
     "hide_input_from_viewers": false,
     "hide_output_from_viewers": false,
     "node_id": "1L3m04y5apiaexWl2LK81T",
     "report_properties": {
      "rowId": "4cdLfgW95EJjIiYC9dQ2us"
     },
     "type": "MD"
    }
   },
   "source": [
    "### Other Contributors"
   ]
  },
  {
   "attachments": {},
   "cell_type": "markdown",
   "metadata": {
    "datalore": {
     "hide_input_from_viewers": false,
     "hide_output_from_viewers": false,
     "node_id": "SIxuIT38jXHmdwoD9SW70P",
     "report_properties": {
      "rowId": "VE4JBSSNM1iY1bwrHlBX1U"
     },
     "type": "MD"
    }
   },
   "source": [
    "Rav Ahuja"
   ]
  },
  {
   "attachments": {},
   "cell_type": "markdown",
   "metadata": {
    "datalore": {
     "hide_input_from_viewers": false,
     "hide_output_from_viewers": false,
     "node_id": "OiOuPgFh627WyMZTHUiLv4",
     "report_properties": {
      "rowId": "Ld5xbe9gmn9bIm68Cp5TAV"
     },
     "type": "MD"
    }
   },
   "source": [
    "## Change Log"
   ]
  },
  {
   "attachments": {},
   "cell_type": "markdown",
   "metadata": {
    "datalore": {
     "hide_input_from_viewers": false,
     "hide_output_from_viewers": false,
     "node_id": "lak70YbkPX4DWqFKjqmJ7G",
     "report_properties": {
      "rowId": "KVMkObW1G128U1YVRl7Jxm"
     },
     "type": "MD"
    }
   },
   "source": [
    "|  Date (YYYY-MM-DD) |  Version | Changed By  |  Change Description |\n",
    "|---|---|---|---|\n",
    "| 2020-10-17  | 0.1  | Ramesh Sannareddy  |  Created initial version of the lab |"
   ]
  },
  {
   "attachments": {},
   "cell_type": "markdown",
   "metadata": {
    "datalore": {
     "hide_input_from_viewers": false,
     "hide_output_from_viewers": false,
     "node_id": "uz3mcmGK4naQ3FZHU3LDcJ",
     "report_properties": {
      "rowId": "tQ1RnJGO1WFUkWutuP36yJ"
     },
     "type": "MD"
    }
   },
   "source": [
    " Copyright &copy; 2020 IBM Corporation. This notebook and its source code are released under the terms of the [MIT License](https://cognitiveclass.ai/mit-license/?utm_medium=Exinfluencer&utm_source=Exinfluencer&utm_content=000026UJ&utm_term=10006555&utm_id=NA-SkillsNetwork-Channel-SkillsNetworkCoursesIBMDA0321ENSkillsNetwork928-2022-01-01)."
   ]
  }
 ],
 "metadata": {
  "datalore": {
   "base_environment": "default",
   "computation_mode": "JUPYTER",
   "package_manager": "pip",
   "packages": [],
   "report_row_ids": [
    "LepmHEpml8oEEmUGygEBmi",
    "ISzDcevvEn1Et13DYym3tI",
    "ura6rWGufgrDMaqAG28LTz",
    "1vasHavjar314StQOwneFD",
    "iD09gmQjJM8PL4MCqB6pCT",
    "k9xVTVNE0DnHQFUYGb9lEW",
    "7dOjVe3oZf4sBnBiAAWT7I",
    "8xPx2ubmf0yHD8fMGURE3D",
    "i6JGSEAqERWF42A4QqD6HE",
    "2ts01M7H0vcwfeqe6uUol4",
    "Tc3JSTHKvBomPQyEgifIIA",
    "ockPeSJBZmD5Z25sDqIyNv",
    "PYUVxzsAvcUUKUn9kLLiye",
    "tt3w9AKTYEtqERtARea4Vt",
    "xIV1dBUxopZtfDsXPU8Rjb",
    "iqEuicM2MjuO94RAOMM7ml",
    "Ea9jC6S0e22JHZPc5X0Ban",
    "crlTbQGd0BGydSqmr8oYcE",
    "ibV3MBhQzPuT2uHZyA6UP6",
    "kTuB0uCJkgqTvLZS3ixXjG",
    "XkchDreJrBaRXwHFaVHLJo",
    "4cdLfgW95EJjIiYC9dQ2us",
    "VE4JBSSNM1iY1bwrHlBX1U",
    "Ld5xbe9gmn9bIm68Cp5TAV",
    "KVMkObW1G128U1YVRl7Jxm",
    "tQ1RnJGO1WFUkWutuP36yJ"
   ],
   "version": 3
  },
  "kernelspec": {
   "display_name": "Python 3 (ipykernel)",
   "language": "python",
   "name": "python3"
  },
  "language_info": {
   "codemirror_mode": {
    "name": "ipython",
    "version": 3
   },
   "file_extension": ".py",
   "mimetype": "text/x-python",
   "name": "python",
   "nbconvert_exporter": "python",
   "pygments_lexer": "ipython3",
   "version": "3.11.2"
  }
 },
 "nbformat": 4,
 "nbformat_minor": 4
}
