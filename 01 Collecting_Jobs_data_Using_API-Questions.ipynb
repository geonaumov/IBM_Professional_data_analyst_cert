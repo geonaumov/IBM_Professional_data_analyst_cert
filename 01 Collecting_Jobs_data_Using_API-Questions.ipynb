{
 "cells": [
  {
   "attachments": {},
   "cell_type": "markdown",
   "metadata": {
    "datalore": {
     "hide_input_from_viewers": false,
     "hide_output_from_viewers": false,
     "node_id": "g5rJEpuQj0QO41bi392qh3",
     "report_properties": {
      "rowId": "957ekfbwuVIMAhHFF3zj0J"
     },
     "type": "MD"
    }
   },
   "source": [
    "# **Collecting Job Data Using APIs**"
   ]
  },
  {
   "attachments": {},
   "cell_type": "markdown",
   "metadata": {
    "datalore": {
     "hide_input_from_viewers": false,
     "hide_output_from_viewers": false,
     "node_id": "qXV2WXiasKMT45gyOQyPWV",
     "report_properties": {
      "rowId": "7EVri2RxtKd6132m1fLpD2"
     },
     "type": "MD"
    }
   },
   "source": [
    "## Objectives"
   ]
  },
  {
   "attachments": {},
   "cell_type": "markdown",
   "metadata": {
    "datalore": {
     "hide_input_from_viewers": false,
     "hide_output_from_viewers": false,
     "node_id": "XO0joi5LtRwg4vRTH4cuwC",
     "report_properties": {
      "rowId": "uLINifUW1F1FvpCoAaOvsH"
     },
     "type": "MD"
    }
   },
   "source": [
    "After completing this lab, you will be able to:"
   ]
  },
  {
   "attachments": {},
   "cell_type": "markdown",
   "metadata": {
    "datalore": {
     "hide_input_from_viewers": false,
     "hide_output_from_viewers": false,
     "node_id": "qWjldIx3hAXL3EZnXwL89L",
     "report_properties": {
      "rowId": "BHN4PTP5KaI9R93mJIDpB0"
     },
     "type": "MD"
    }
   },
   "source": [
    "*   Collect job data from Jobs API\n",
    "*   Store the collected data into an excel spreadsheet."
   ]
  },
  {
   "attachments": {},
   "cell_type": "markdown",
   "metadata": {
    "datalore": {
     "hide_input_from_viewers": false,
     "hide_output_from_viewers": false,
     "node_id": "9UWIEJ07MA3Uyvf3G9wiP8",
     "report_properties": {
      "rowId": "RaEbUykT1pAH6GVVQLJ0Hc"
     },
     "type": "MD"
    }
   },
   "source": [
    "><strong>Note: Before starting with the assignment make sure to read all the instructions and then move ahead with the coding part.</strong>"
   ]
  },
  {
   "attachments": {},
   "cell_type": "markdown",
   "metadata": {
    "datalore": {
     "hide_input_from_viewers": false,
     "hide_output_from_viewers": false,
     "node_id": "MdVww3WpBcUV3QcqNcghA8",
     "report_properties": {
      "rowId": "ZLrhzKBp1KvK2twCbQEkgw"
     },
     "type": "MD"
    }
   },
   "source": [
    "#### Instructions"
   ]
  },
  {
   "attachments": {},
   "cell_type": "markdown",
   "metadata": {
    "datalore": {
     "hide_input_from_viewers": false,
     "hide_output_from_viewers": false,
     "node_id": "4COMciFDZ4EtVHETOpnpwY",
     "report_properties": {
      "rowId": "BSsO1c3KwZzX8DtKirdifO"
     },
     "type": "MD"
    }
   },
   "source": [
    "To run the actual lab, firstly you need to click on the [Jobs_API](https://cf-courses-data.s3.us.cloud-object-storage.appdomain.cloud/IBM-DA0321EN-SkillsNetwork/labs/module%201/Accessing%20Data%20Using%20APIs/Jobs_API.ipynb) notebook link. The file contains flask code which is required to run the Jobs API data.\n",
    "\n",
    "Now, to run the code in the file that opens up follow the below steps.\n",
    "\n",
    "Step1: Download the file. \n",
    "\n",
    "Step2: Upload it on the IBM Watson studio. (If IBM Watson Cloud service does not work in your system, follow the alternate Step 2 below)\n",
    "\n",
    "Step2(alternate): Upload it in your SN labs environment using the upload button which is highlighted in red in the image below:\n",
    "Remember to upload this Jobs_API file in the same folder as your current .ipynb file\n",
    "\n",
    "Step3:  Run all the cells of the Jobs_API file. (Even if you receive an asterik sign after running the last cell, the code works fine.)\n",
    "\n",
    "Once you run the flask code, you can start with your assignment."
   ]
  },
  {
   "attachments": {},
   "cell_type": "markdown",
   "metadata": {
    "datalore": {
     "hide_input_from_viewers": false,
     "hide_output_from_viewers": false,
     "node_id": "SRmllSoPnbUv7FDdA68QP1",
     "report_properties": {
      "rowId": "GWExl8lOwSmS16DZEikRqN"
     },
     "type": "MD"
    }
   },
   "source": [
    "## Dataset Used in this Assignment\n",
    "\n",
    "The dataset used in this lab comes from the following source: https://www.kaggle.com/promptcloud/jobs-on-naukricom under the under a **Public Domain license**.\n",
    "\n",
    "> Note: We are using a modified subset of that dataset for the lab, so to follow the lab instructions successfully please use the dataset provided with the lab, rather than the dataset from the original source.\n",
    "\n",
    "The original dataset is a csv. We have converted the csv to json as per the requirement of the lab."
   ]
  },
  {
   "attachments": {},
   "cell_type": "markdown",
   "metadata": {
    "datalore": {
     "hide_input_from_viewers": false,
     "hide_output_from_viewers": false,
     "node_id": "1JJ8eVODrTYJHn36tmjntu",
     "report_properties": {
      "rowId": "N3yLMdgbgXhwqT1iWxFe1n"
     },
     "type": "MD"
    }
   },
   "source": [
    "## Warm-Up Exercise"
   ]
  },
  {
   "attachments": {},
   "cell_type": "markdown",
   "metadata": {
    "datalore": {
     "hide_input_from_viewers": false,
     "hide_output_from_viewers": false,
     "node_id": "LSQp1xYfz0pfwiKEkuVntu",
     "report_properties": {
      "rowId": "2IWoB1uvtCwZt9nCzHOz0G"
     },
     "type": "MD"
    }
   },
   "source": [
    "Before you attempt the actual lab, here is a fully solved warmup exercise that will help you to learn how to access an API."
   ]
  },
  {
   "attachments": {},
   "cell_type": "markdown",
   "metadata": {
    "datalore": {
     "hide_input_from_viewers": false,
     "hide_output_from_viewers": false,
     "node_id": "iyuXOdPm3730qpON6Ksl3f",
     "report_properties": {
      "rowId": "n0dUT3MHmN4AXDF2F3InlE"
     },
     "type": "MD"
    }
   },
   "source": [
    "Using an API, let us find out who currently are on the International Space Station (ISS).<br> The API at [http://api.open-notify.org/astros.json](http://api.open-notify.org/astros.json?utm_medium=Exinfluencer&utm_source=Exinfluencer&utm_content=000026UJ&utm_term=10006555&utm_id=NA-SkillsNetwork-Channel-SkillsNetworkCoursesIBMDA0321ENSkillsNetwork21426264-2021-01-01&cm_mmc=Email_Newsletter-_-Developer_Ed%2BTech-_-WW_WW-_-SkillsNetwork-Courses-IBM-DA0321EN-SkillsNetwork-21426264&cm_mmca1=000026UJ&cm_mmca2=10006555&cm_mmca3=M12345678&cvosrc=email.Newsletter.M12345678&cvo_campaign=000026UJ) gives us the information of astronauts currently on ISS in json format.<br>\n",
    "You can read more about this API at [http://open-notify.org/Open-Notify-API/People-In-Space/](http://open-notify.org/Open-Notify-API/People-In-Space?utm_medium=Exinfluencer&utm_source=Exinfluencer&utm_content=000026UJ&utm_term=10006555&utm_id=NA-SkillsNetwork-Channel-SkillsNetworkCoursesIBMDA0321ENSkillsNetwork21426264-2021-01-01&cm_mmc=Email_Newsletter-_-Developer_Ed%2BTech-_-WW_WW-_-SkillsNetwork-Courses-IBM-DA0321EN-SkillsNetwork-21426264&cm_mmca1=000026UJ&cm_mmca2=10006555&cm_mmca3=M12345678&cvosrc=email.Newsletter.M12345678&cvo_campaign=000026UJ)"
   ]
  },
  {
   "cell_type": "code",
   "execution_count": 1,
   "metadata": {
    "ExecuteTime": {
     "end_time": "2024-07-25T15:15:26.258741Z",
     "start_time": "2024-07-25T15:15:25.851125Z"
    },
    "datalore": {
     "hide_input_from_viewers": false,
     "hide_output_from_viewers": false,
     "node_id": "UNpUacqnvKgeFPcWBJNMUA",
     "report_properties": {
      "rowId": "d4EOfqCa0uhF1na8soCG0l"
     },
     "type": "CODE"
    }
   },
   "outputs": [],
   "source": [
    "import requests # you need this module to make an API call\n",
    "import pandas as pd"
   ]
  },
  {
   "cell_type": "code",
   "execution_count": 2,
   "metadata": {
    "ExecuteTime": {
     "end_time": "2024-07-25T15:15:26.262061Z",
     "start_time": "2024-07-25T15:15:26.259814Z"
    },
    "datalore": {
     "hide_input_from_viewers": false,
     "hide_output_from_viewers": false,
     "node_id": "iP7LkadjxWihnzCarnjPKf",
     "report_properties": {
      "rowId": "bWst774hMA8fLvfgVaDhES"
     },
     "type": "CODE"
    }
   },
   "outputs": [],
   "source": [
    "api_url = \"http://api.open-notify.org/astros.json\" # this url gives use the astronaut data"
   ]
  },
  {
   "cell_type": "code",
   "execution_count": 3,
   "metadata": {
    "ExecuteTime": {
     "end_time": "2024-07-25T15:15:31.264738Z",
     "start_time": "2024-07-25T15:15:26.263179Z"
    },
    "datalore": {
     "hide_input_from_viewers": false,
     "hide_output_from_viewers": false,
     "node_id": "pN3fY2qnritloYyBfymyGY",
     "report_properties": {
      "rowId": "Rh8ljAcw9cYmQlcoMdEqTv"
     },
     "type": "CODE"
    }
   },
   "outputs": [],
   "source": [
    "response = requests.get(api_url) # Call the API using the get method and store the\n",
    "                                # output of the API call in a variable called response."
   ]
  },
  {
   "cell_type": "code",
   "execution_count": 4,
   "metadata": {
    "ExecuteTime": {
     "end_time": "2024-07-25T15:15:31.273121Z",
     "start_time": "2024-07-25T15:15:31.268231Z"
    },
    "datalore": {
     "hide_input_from_viewers": false,
     "hide_output_from_viewers": false,
     "node_id": "mZD2ibRurLjLVSMSf9dT9V",
     "report_properties": {
      "rowId": "lfFHqfOzkGLL0IZ4WVsgG1"
     },
     "type": "CODE"
    }
   },
   "outputs": [],
   "source": [
    "if response.ok:             # if all is well() no errors, no network timeouts)\n",
    "    data = response.json()  # store the result in json format in a variable called data\n",
    "                            # the variable data is of type dictionary."
   ]
  },
  {
   "cell_type": "code",
   "execution_count": 5,
   "metadata": {
    "ExecuteTime": {
     "end_time": "2024-07-25T15:15:31.280700Z",
     "start_time": "2024-07-25T15:15:31.276042Z"
    },
    "datalore": {
     "hide_input_from_viewers": false,
     "hide_output_from_viewers": false,
     "node_id": "dPUnLGDCWcs9hWOgyAOji6",
     "report_properties": {
      "rowId": "W9rgTMqqLraMHYKXboH38G"
     },
     "type": "CODE"
    }
   },
   "outputs": [
    {
     "name": "stdout",
     "output_type": "stream",
     "text": [
      "{'people': [{'craft': 'ISS', 'name': 'Oleg Kononenko'}, {'craft': 'ISS', 'name': 'Nikolai Chub'}, {'craft': 'ISS', 'name': 'Tracy Caldwell Dyson'}, {'craft': 'ISS', 'name': 'Matthew Dominick'}, {'craft': 'ISS', 'name': 'Michael Barratt'}, {'craft': 'ISS', 'name': 'Jeanette Epps'}, {'craft': 'ISS', 'name': 'Alexander Grebenkin'}, {'craft': 'ISS', 'name': 'Butch Wilmore'}, {'craft': 'ISS', 'name': 'Sunita Williams'}, {'craft': 'Tiangong', 'name': 'Li Guangsu'}, {'craft': 'Tiangong', 'name': 'Li Cong'}, {'craft': 'Tiangong', 'name': 'Ye Guangfu'}], 'number': 12, 'message': 'success'}\n"
     ]
    }
   ],
   "source": [
    "print(data)   # print the data just to check the output or for debugging"
   ]
  },
  {
   "attachments": {},
   "cell_type": "markdown",
   "metadata": {
    "datalore": {
     "hide_input_from_viewers": false,
     "hide_output_from_viewers": false,
     "node_id": "OhCz6fvA1uB7FRKqpjKwtX",
     "report_properties": {
      "rowId": "iMLsA27x6jgKTE2SK5Yu7A"
     },
     "type": "MD"
    }
   },
   "source": [
    "Print the number of astronauts currently on ISS."
   ]
  },
  {
   "cell_type": "code",
   "execution_count": 6,
   "metadata": {
    "ExecuteTime": {
     "end_time": "2024-07-25T15:15:31.285417Z",
     "start_time": "2024-07-25T15:15:31.282150Z"
    },
    "datalore": {
     "hide_input_from_viewers": false,
     "hide_output_from_viewers": false,
     "node_id": "idF4e1fvqNEOgEPLWfVgz4",
     "report_properties": {
      "rowId": "RlhKN2z3yQ8rcfVHx17ldS"
     },
     "type": "CODE"
    }
   },
   "outputs": [
    {
     "name": "stdout",
     "output_type": "stream",
     "text": [
      "12\n"
     ]
    }
   ],
   "source": [
    "print(data.get('number'))"
   ]
  },
  {
   "attachments": {},
   "cell_type": "markdown",
   "metadata": {
    "datalore": {
     "hide_input_from_viewers": false,
     "hide_output_from_viewers": false,
     "node_id": "cGWctWqgFfi6UBCdHh49fg",
     "report_properties": {
      "rowId": "yqywBql7TumdxNvLkDIDqv"
     },
     "type": "MD"
    }
   },
   "source": [
    "Print the names of the astronauts currently on ISS."
   ]
  },
  {
   "cell_type": "code",
   "execution_count": 7,
   "metadata": {
    "ExecuteTime": {
     "end_time": "2024-07-25T15:15:31.289441Z",
     "start_time": "2024-07-25T15:15:31.286308Z"
    },
    "datalore": {
     "hide_input_from_viewers": false,
     "hide_output_from_viewers": false,
     "node_id": "sugsfUAJZqc1TBdqg4z5uK",
     "report_properties": {
      "rowId": "QoA04eZFZfszNPjiQxO6yH"
     },
     "type": "CODE"
    }
   },
   "outputs": [
    {
     "name": "stdout",
     "output_type": "stream",
     "text": [
      "There are 12 astronauts on ISS\n",
      "And their names are :\n",
      "Oleg Kononenko\n",
      "Nikolai Chub\n",
      "Tracy Caldwell Dyson\n",
      "Matthew Dominick\n",
      "Michael Barratt\n",
      "Jeanette Epps\n",
      "Alexander Grebenkin\n",
      "Butch Wilmore\n",
      "Sunita Williams\n",
      "Li Guangsu\n",
      "Li Cong\n",
      "Ye Guangfu\n"
     ]
    }
   ],
   "source": [
    "astronauts = data.get('people')\n",
    "print(\"There are {} astronauts on ISS\".format(len(astronauts)))\n",
    "print(\"And their names are :\")\n",
    "for astronaut in astronauts:\n",
    "    print(astronaut.get('name'))"
   ]
  },
  {
   "attachments": {},
   "cell_type": "markdown",
   "metadata": {
    "datalore": {
     "hide_input_from_viewers": false,
     "hide_output_from_viewers": false,
     "node_id": "wCs7mkQQr1VmFFPQAngSs4",
     "report_properties": {
      "rowId": "rvZ0ZDRtZlWRAq4GZ9j1U7"
     },
     "type": "MD"
    }
   },
   "source": [
    "Hope the warmup was helpful. Good luck with your next lab!"
   ]
  },
  {
   "attachments": {},
   "cell_type": "markdown",
   "metadata": {
    "datalore": {
     "hide_input_from_viewers": false,
     "hide_output_from_viewers": false,
     "node_id": "mCh5eLVTo141AiroIS2fLP",
     "report_properties": {
      "rowId": "Cbdj6PM2CWyTjvYnt0Ygqz"
     },
     "type": "MD"
    }
   },
   "source": [
    "## Lab: Collect Jobs Data using Jobs API"
   ]
  },
  {
   "attachments": {},
   "cell_type": "markdown",
   "metadata": {
    "datalore": {
     "hide_input_from_viewers": false,
     "hide_output_from_viewers": false,
     "node_id": "27UVXuRY3JTvL5rr7Flnhe",
     "report_properties": {
      "rowId": "EthVn3zZQD5XC3hVtjMYZK"
     },
     "type": "MD"
    }
   },
   "source": [
    "### Objective: Determine the number of jobs currently open for various technologies  and for various locations"
   ]
  },
  {
   "attachments": {},
   "cell_type": "markdown",
   "metadata": {
    "datalore": {
     "hide_input_from_viewers": false,
     "hide_output_from_viewers": false,
     "node_id": "NyOWxhsYm88hd8ZO91zo6e",
     "report_properties": {
      "rowId": "hbvGeSsnRSZCyJKBRENhBa"
     },
     "type": "MD"
    }
   },
   "source": [
    "Collect the number of job postings for the following locations using the API:\n",
    "\n",
    "* Los Angeles\n",
    "* New York\n",
    "* San Francisco\n",
    "* Washington DC\n",
    "* Seattle\n",
    "* Austin\n",
    "* Detroit"
   ]
  },
  {
   "cell_type": "code",
   "execution_count": 8,
   "metadata": {
    "ExecuteTime": {
     "end_time": "2024-07-25T15:15:31.292718Z",
     "start_time": "2024-07-25T15:15:31.290259Z"
    },
    "datalore": {
     "hide_input_from_viewers": false,
     "hide_output_from_viewers": false,
     "node_id": "rr2MwwfB1Wuh685ZlnAHZB",
     "report_properties": {
      "rowId": "g2w3BcOqzbcpKEZNvdIBaT"
     },
     "type": "CODE"
    }
   },
   "outputs": [],
   "source": [
    "#Import required libraries\n",
    "import pandas as pd\n",
    "import json"
   ]
  },
  {
   "attachments": {},
   "cell_type": "markdown",
   "metadata": {
    "datalore": {
     "hide_input_from_viewers": false,
     "hide_output_from_viewers": false,
     "node_id": "EpdAGjvPBzDYy9ym6WzxEw",
     "report_properties": {
      "rowId": "OqmNAzoQXxXCIwvUr8Vcae"
     },
     "type": "MD"
    }
   },
   "source": [
    "#### Write a function to get the number of jobs for the Python technology.<br>\n",
    "> Note: While using the lab you need to pass the **payload** information for the **params** attribute in the form of **key** **value** pairs.\n",
    "  Refer the ungraded **rest api lab** in the course **Python for Data Science, AI & Development**  <a href=\"https://www.coursera.org/learn/python-for-applied-data-science-ai/ungradedLti/P6sW8/hands-on-lab-access-rest-apis-request-http?utm_medium=Exinfluencer&utm_source=Exinfluencer&utm_content=000026UJ&utm_term=10006555&utm_id=NA-SkillsNetwork-Channel-SkillsNetworkCoursesIBMDA0321ENSkillsNetwork928-2022-01-01\">link</a>\n",
    "  \n",
    " ##### The keys in the json are \n",
    " * Job Title\n",
    " \n",
    " * Job Experience Required\n",
    " \n",
    " * Key Skills\n",
    " \n",
    " * Role Category\n",
    " \n",
    " * Location\n",
    " \n",
    " * Functional Area\n",
    " \n",
    " * Industry\n",
    " \n",
    " * Role \n",
    " \n",
    "You can also view  the json file contents  from the following <a href = \"https://cf-courses-data.s3.us.cloud-object-storage.appdomain.cloud/IBM-DA0321EN-SkillsNetwork/labs/module%201/Accessing%20Data%20Using%20APIs/jobs.json\">json</a> URL."
   ]
  },
  {
   "cell_type": "code",
   "execution_count": 9,
   "metadata": {
    "ExecuteTime": {
     "end_time": "2024-07-25T15:15:33.216652Z",
     "start_time": "2024-07-25T15:15:31.293569Z"
    },
    "datalore": {
     "hide_input_from_viewers": true,
     "hide_output_from_viewers": true,
     "node_id": "0SYtNJFEhP8FGzxnERVpr3",
     "type": "CODE"
    }
   },
   "outputs": [
    {
     "name": "stdout",
     "output_type": "stream",
     "text": [
      "\r\n",
      "\r\n",
      "\u001b7\u001b[1A\u001b[1G\u001b[27G[Files: 0  Bytes: 0  [0 B/s] Re]\u001b8\u001b7\u001b[2A\u001b[1G\u001b[27G[https://cf-courses-data.s3.us.]\u001b8\u001b7\u001b[2A\u001b[1G0 files                0% [>                             ]       0          B/s\u001b8\u001b7\u001b[1A\u001b[1G\u001b[27G[Files: 0  Bytes: 0  [0 B/s] Re]\u001b8\u001b[m\u001b[m\u001b[m\u001b[m"
     ]
    }
   ],
   "source": [
    "!wget -c \"https://cf-courses-data.s3.us.cloud-object-storage.appdomain.cloud/IBM-DA0321EN-SkillsNetwork/labs/module%201/Accessing%20Data%20Using%20APIs/jobs.json\""
   ]
  },
  {
   "cell_type": "code",
   "execution_count": 10,
   "metadata": {
    "ExecuteTime": {
     "end_time": "2024-07-25T15:15:33.362702Z",
     "start_time": "2024-07-25T15:15:33.222209Z"
    },
    "datalore": {
     "hide_input_from_viewers": true,
     "hide_output_from_viewers": true,
     "node_id": "yHAzRVYRvORlPjUEQQgp0p",
     "type": "CODE"
    }
   },
   "outputs": [],
   "source": [
    "data = pd.read_json(\"jobs.json\")"
   ]
  },
  {
   "cell_type": "code",
   "execution_count": 11,
   "metadata": {
    "ExecuteTime": {
     "end_time": "2024-07-25T15:15:33.374076Z",
     "start_time": "2024-07-25T15:15:33.363468Z"
    },
    "datalore": {
     "hide_input_from_viewers": true,
     "hide_output_from_viewers": true,
     "node_id": "xxHKFJvkj8g5ta9ZFATTBX",
     "type": "CODE"
    }
   },
   "outputs": [
    {
     "data": {
      "text/html": [
       "<div>\n",
       "<style scoped>\n",
       "    .dataframe tbody tr th:only-of-type {\n",
       "        vertical-align: middle;\n",
       "    }\n",
       "\n",
       "    .dataframe tbody tr th {\n",
       "        vertical-align: top;\n",
       "    }\n",
       "\n",
       "    .dataframe thead th {\n",
       "        text-align: right;\n",
       "    }\n",
       "</style>\n",
       "<table border=\"1\" class=\"dataframe\">\n",
       "  <thead>\n",
       "    <tr style=\"text-align: right;\">\n",
       "      <th></th>\n",
       "      <th>Id</th>\n",
       "      <th>Job Title</th>\n",
       "      <th>Job Experience Required</th>\n",
       "      <th>Key Skills</th>\n",
       "      <th>Role Category</th>\n",
       "      <th>Location</th>\n",
       "      <th>Functional Area</th>\n",
       "      <th>Industry</th>\n",
       "      <th>Role</th>\n",
       "    </tr>\n",
       "  </thead>\n",
       "  <tbody>\n",
       "    <tr>\n",
       "      <th>0</th>\n",
       "      <td>0</td>\n",
       "      <td>Digital Media Planner</td>\n",
       "      <td>5 - 10 yrs</td>\n",
       "      <td>Media Planning| Digital Media</td>\n",
       "      <td>Advertising</td>\n",
       "      <td>Los Angeles</td>\n",
       "      <td>Marketing , Advertising , MR , PR , Media Plan...</td>\n",
       "      <td>Advertising, PR, MR, Event Management</td>\n",
       "      <td>Media Planning Executive/Manager</td>\n",
       "    </tr>\n",
       "    <tr>\n",
       "      <th>1</th>\n",
       "      <td>1</td>\n",
       "      <td>Online Bidding Executive</td>\n",
       "      <td>2 - 5 yrs</td>\n",
       "      <td>pre sales| closing| software knowledge| client...</td>\n",
       "      <td>Retail Sales</td>\n",
       "      <td>New York</td>\n",
       "      <td>Sales , Retail , Business Development</td>\n",
       "      <td>IT-Software, Software Services</td>\n",
       "      <td>Sales Executive/Officer</td>\n",
       "    </tr>\n",
       "    <tr>\n",
       "      <th>2</th>\n",
       "      <td>2</td>\n",
       "      <td>Trainee Research/ Research Executive- Hi- Tech...</td>\n",
       "      <td>0 - 1 yrs</td>\n",
       "      <td>Computer science| Fabrication| Quality check| ...</td>\n",
       "      <td>R&amp;D</td>\n",
       "      <td>San Francisco</td>\n",
       "      <td>Engineering Design , R&amp;D</td>\n",
       "      <td>Recruitment, Staffing</td>\n",
       "      <td>R&amp;D Executive</td>\n",
       "    </tr>\n",
       "    <tr>\n",
       "      <th>3</th>\n",
       "      <td>3</td>\n",
       "      <td>Technical Support</td>\n",
       "      <td>0 - 5 yrs</td>\n",
       "      <td>Technical Support</td>\n",
       "      <td>Admin/Maintenance/Security/Datawarehousing</td>\n",
       "      <td>Washington DC</td>\n",
       "      <td>IT Software - Application Programming , Mainte...</td>\n",
       "      <td>IT-Software, Software Services</td>\n",
       "      <td>Technical Support Engineer</td>\n",
       "    </tr>\n",
       "    <tr>\n",
       "      <th>4</th>\n",
       "      <td>4</td>\n",
       "      <td>Software Test Engineer -hyderabad</td>\n",
       "      <td>2 - 5 yrs</td>\n",
       "      <td>manual testing| test engineering| test cases| ...</td>\n",
       "      <td>Programming &amp; Design</td>\n",
       "      <td>Boston</td>\n",
       "      <td>IT Software - QA &amp; Testing</td>\n",
       "      <td>IT-Software, Software Services</td>\n",
       "      <td>Testing Engineer</td>\n",
       "    </tr>\n",
       "  </tbody>\n",
       "</table>\n",
       "</div>"
      ],
      "text/plain": [
       "   Id                                          Job Title  \\\n",
       "0   0                              Digital Media Planner   \n",
       "1   1                           Online Bidding Executive   \n",
       "2   2  Trainee Research/ Research Executive- Hi- Tech...   \n",
       "3   3                                  Technical Support   \n",
       "4   4                  Software Test Engineer -hyderabad   \n",
       "\n",
       "  Job Experience Required                                         Key Skills  \\\n",
       "0              5 - 10 yrs                      Media Planning| Digital Media   \n",
       "1               2 - 5 yrs  pre sales| closing| software knowledge| client...   \n",
       "2               0 - 1 yrs  Computer science| Fabrication| Quality check| ...   \n",
       "3               0 - 5 yrs                                  Technical Support   \n",
       "4               2 - 5 yrs  manual testing| test engineering| test cases| ...   \n",
       "\n",
       "                                Role Category       Location  \\\n",
       "0                                 Advertising    Los Angeles   \n",
       "1                                Retail Sales       New York   \n",
       "2                                         R&D  San Francisco   \n",
       "3  Admin/Maintenance/Security/Datawarehousing  Washington DC   \n",
       "4                        Programming & Design         Boston   \n",
       "\n",
       "                                     Functional Area  \\\n",
       "0  Marketing , Advertising , MR , PR , Media Plan...   \n",
       "1              Sales , Retail , Business Development   \n",
       "2                           Engineering Design , R&D   \n",
       "3  IT Software - Application Programming , Mainte...   \n",
       "4                         IT Software - QA & Testing   \n",
       "\n",
       "                                Industry                              Role  \n",
       "0  Advertising, PR, MR, Event Management  Media Planning Executive/Manager  \n",
       "1         IT-Software, Software Services           Sales Executive/Officer  \n",
       "2                  Recruitment, Staffing                     R&D Executive  \n",
       "3         IT-Software, Software Services        Technical Support Engineer  \n",
       "4         IT-Software, Software Services                  Testing Engineer  "
      ]
     },
     "execution_count": 11,
     "metadata": {},
     "output_type": "execute_result"
    }
   ],
   "source": [
    "data.head()"
   ]
  },
  {
   "cell_type": "code",
   "execution_count": 31,
   "metadata": {
    "ExecuteTime": {
     "end_time": "2024-07-25T15:20:42.350345Z",
     "start_time": "2024-07-25T15:20:42.347689Z"
    },
    "datalore": {
     "hide_input_from_viewers": false,
     "hide_output_from_viewers": false,
     "node_id": "lRbBCT9q0jO21mXG7oTRM6",
     "report_properties": {
      "rowId": "x7NU97c41CpZRl0BkgIxKu"
     },
     "type": "CODE"
    }
   },
   "outputs": [],
   "source": [
    "def get_number_of_jobs_T(technology):\n",
    "    number_of_jobs = data.loc[data['Job Title'].str.contains(technology)].count()\n",
    "    number_of_jobs = int(number_of_jobs['Id'])\n",
    "    return technology,number_of_jobs"
   ]
  },
  {
   "attachments": {},
   "cell_type": "markdown",
   "metadata": {
    "datalore": {
     "hide_input_from_viewers": false,
     "hide_output_from_viewers": false,
     "node_id": "QGpC8tDqlzDQ5ysl8kVOJ5",
     "report_properties": {
      "rowId": "XLxamL9SOfrXyZDvxJEEy2"
     },
     "type": "MD"
    }
   },
   "source": [
    "Calling the function for Python and checking if it works."
   ]
  },
  {
   "cell_type": "code",
   "execution_count": 32,
   "metadata": {
    "ExecuteTime": {
     "end_time": "2024-07-25T15:20:42.972296Z",
     "start_time": "2024-07-25T15:20:42.959995Z"
    },
    "datalore": {
     "hide_input_from_viewers": false,
     "hide_output_from_viewers": false,
     "node_id": "udezhJ4qaLGyjpKf8DOH9v",
     "report_properties": {
      "rowId": "aEKVdq65wDhn8YYXFNeU5R"
     },
     "type": "CODE"
    }
   },
   "outputs": [
    {
     "data": {
      "text/plain": [
       "('Python', 191)"
      ]
     },
     "execution_count": 32,
     "metadata": {},
     "output_type": "execute_result"
    }
   ],
   "source": [
    "get_number_of_jobs_T(\"Python\")"
   ]
  },
  {
   "attachments": {},
   "cell_type": "markdown",
   "metadata": {
    "datalore": {
     "hide_input_from_viewers": false,
     "hide_output_from_viewers": false,
     "node_id": "x7Y2q3VXorFJieq75DUzYZ",
     "report_properties": {
      "rowId": "cpreYf07VyUEXr3Qa9lPgm"
     },
     "type": "MD"
    }
   },
   "source": [
    "#### Write a function to find number of jobs in US for a location of your choice"
   ]
  },
  {
   "cell_type": "code",
   "execution_count": 33,
   "metadata": {
    "ExecuteTime": {
     "end_time": "2024-07-25T15:20:43.256662Z",
     "start_time": "2024-07-25T15:20:43.254166Z"
    },
    "datalore": {
     "hide_input_from_viewers": false,
     "hide_output_from_viewers": false,
     "node_id": "aCIs3iQ5gPl9tYMhqKBaI9",
     "report_properties": {
      "rowId": "T7afKg6pOwEueKTFuS9Jtg"
     },
     "type": "CODE"
    }
   },
   "outputs": [],
   "source": [
    "def get_number_of_jobs_L(location):\n",
    "    number_of_jobs = data.loc[data['Location'].str.contains(location)].count()\n",
    "    number_of_jobs = int(number_of_jobs['Id'])\n",
    "    #your coe goes here\n",
    "    return location,number_of_jobs"
   ]
  },
  {
   "attachments": {},
   "cell_type": "markdown",
   "metadata": {
    "datalore": {
     "hide_input_from_viewers": false,
     "hide_output_from_viewers": false,
     "node_id": "siWcHPurRYuahHNbpXXaEG",
     "report_properties": {
      "rowId": "jpKbMu0dUUQxdKDNbVaQRo"
     },
     "type": "MD"
    }
   },
   "source": [
    "Call the function for Los Angeles and check if it is working.\n",
    "\n"
   ]
  },
  {
   "cell_type": "code",
   "execution_count": 34,
   "metadata": {
    "ExecuteTime": {
     "end_time": "2024-07-25T15:20:43.805885Z",
     "start_time": "2024-07-25T15:20:43.795497Z"
    },
    "datalore": {
     "hide_input_from_viewers": false,
     "hide_output_from_viewers": false,
     "node_id": "xvRgO122UomYNH8Z0Xweqx",
     "report_properties": {
      "rowId": "xxeIGJoIUroQivAgsaNnqR"
     },
     "type": "CODE"
    }
   },
   "outputs": [
    {
     "data": {
      "text/plain": [
       "('Los Angeles', 640)"
      ]
     },
     "execution_count": 34,
     "metadata": {},
     "output_type": "execute_result"
    }
   ],
   "source": [
    "#your code goes here\n",
    "get_number_of_jobs_L(\"Los Angeles\")"
   ]
  },
  {
   "attachments": {},
   "cell_type": "markdown",
   "metadata": {
    "datalore": {
     "hide_input_from_viewers": false,
     "hide_output_from_viewers": false,
     "node_id": "lXnSFYkgB9SwO98Oqm6DnT",
     "report_properties": {
      "rowId": "Xp82UFIQ8Vs1gdp2ySbgoF"
     },
     "type": "MD"
    }
   },
   "source": [
    "### Store the results in an excel file"
   ]
  },
  {
   "attachments": {},
   "cell_type": "markdown",
   "metadata": {
    "datalore": {
     "hide_input_from_viewers": false,
     "hide_output_from_viewers": false,
     "node_id": "oSE3SVGqjxlymEm3corHg6",
     "report_properties": {
      "rowId": "SBPKjxysVJjG2NzOF2bsZc"
     },
     "type": "MD"
    }
   },
   "source": [
    "Call the API for all the given technologies above and write the results in an excel spreadsheet."
   ]
  },
  {
   "attachments": {},
   "cell_type": "markdown",
   "metadata": {
    "datalore": {
     "hide_input_from_viewers": false,
     "hide_output_from_viewers": false,
     "node_id": "c9t58Llpvh7XRvX5bXyDHe",
     "report_properties": {
      "rowId": "ng7vWsvJr3BPKYMdoM3kbs"
     },
     "type": "MD"
    }
   },
   "source": [
    "If you do not know how create excel file using python, double click here for **hints**.\n",
    "\n",
    "<!--\n",
    "\n",
    "from openpyxl import Workbook        # import Workbook class from module openpyxl\n",
    "wb=Workbook()                        # create a workbook object\n",
    "ws=wb.active                         # use the active worksheet\n",
    "ws.append(['Country','Continent'])   # add a row with two columns 'Country' and 'Continent'\n",
    "ws.append(['Eygpt','Africa'])        # add a row with two columns 'Egypt' and 'Africa'\n",
    "ws.append(['India','Asia'])          # add another row\n",
    "ws.append(['France','Europe'])       # add another row\n",
    "wb.save(\"countries.xlsx\")            # save the workbook into a file called countries.xlsx\n",
    "\n",
    "\n",
    "-->"
   ]
  },
  {
   "attachments": {},
   "cell_type": "markdown",
   "metadata": {
    "datalore": {
     "hide_input_from_viewers": false,
     "hide_output_from_viewers": false,
     "node_id": "awrhwm9gnbjVji5RzQtsCK",
     "report_properties": {
      "rowId": "2l10wIzZp6C1WgwJl33T76"
     },
     "type": "MD"
    }
   },
   "source": [
    "Create a python list of all locations for which you need to find the number of jobs postings."
   ]
  },
  {
   "cell_type": "code",
   "execution_count": 35,
   "metadata": {
    "ExecuteTime": {
     "end_time": "2024-07-25T15:20:45.633792Z",
     "start_time": "2024-07-25T15:20:45.631637Z"
    },
    "datalore": {
     "hide_input_from_viewers": false,
     "hide_output_from_viewers": false,
     "node_id": "XWnSWn1UoHDzrrJskSOwM4",
     "report_properties": {
      "rowId": "l1yTGrqWsWExaoreXu6FHV"
     },
     "type": "CODE"
    }
   },
   "outputs": [],
   "source": [
    "#your code goes here\n",
    "locations = [\"Los Angeles\", \"New York\", \"San Francisco\", \"Seattle\", \"Washington\", \"Austin\", \"Detroit\"]"
   ]
  },
  {
   "attachments": {},
   "cell_type": "markdown",
   "metadata": {
    "datalore": {
     "hide_input_from_viewers": false,
     "hide_output_from_viewers": false,
     "node_id": "NKwnQcR1HT5FUS2L2IO8aE",
     "report_properties": {
      "rowId": "78isP030u1VNwDNhXT0VhC"
     },
     "type": "MD"
    }
   },
   "source": [
    "Import libraries required to create excel spreadsheet"
   ]
  },
  {
   "cell_type": "code",
   "execution_count": 36,
   "metadata": {
    "ExecuteTime": {
     "end_time": "2024-07-25T15:20:46.339194Z",
     "start_time": "2024-07-25T15:20:46.337212Z"
    },
    "datalore": {
     "hide_input_from_viewers": false,
     "hide_output_from_viewers": false,
     "node_id": "QOWgorKxoo93FukowSjWAJ",
     "report_properties": {
      "rowId": "Df0G0C2AXoDAxHOdAwB7gI"
     },
     "type": "CODE"
    }
   },
   "outputs": [],
   "source": [
    "# your code goes here\n",
    "from openpyxl import Workbook"
   ]
  },
  {
   "attachments": {},
   "cell_type": "markdown",
   "metadata": {
    "datalore": {
     "hide_input_from_viewers": false,
     "hide_output_from_viewers": false,
     "node_id": "xgjo1TSsrEw8Hf5cu8OX0e",
     "report_properties": {
      "rowId": "0eEzmtwFovmF77vLfZVyOW"
     },
     "type": "MD"
    }
   },
   "source": [
    "Create a workbook and select the active worksheet"
   ]
  },
  {
   "cell_type": "code",
   "execution_count": 37,
   "metadata": {
    "ExecuteTime": {
     "end_time": "2024-07-25T15:20:47.167441Z",
     "start_time": "2024-07-25T15:20:47.163741Z"
    },
    "datalore": {
     "hide_input_from_viewers": false,
     "hide_output_from_viewers": false,
     "node_id": "KmRItYinWuiQsSOputoTd8",
     "report_properties": {
      "rowId": "9KVg9Ryurz0UXahbPVfGTa"
     },
     "type": "CODE"
    }
   },
   "outputs": [],
   "source": [
    "# your code goes here\n",
    "wb=Workbook()\n",
    "ws=wb.active"
   ]
  },
  {
   "attachments": {},
   "cell_type": "markdown",
   "metadata": {
    "datalore": {
     "hide_input_from_viewers": false,
     "hide_output_from_viewers": false,
     "node_id": "unN24vGaMGz5kLGUtGlkEJ",
     "report_properties": {
      "rowId": "1ZwTfvMKLHneBNWJHn2rUX"
     },
     "type": "MD"
    }
   },
   "source": [
    "Find the number of jobs postings for each of the location in the above list.\n",
    "Write the Location name and the number of jobs postings into the excel spreadsheet."
   ]
  },
  {
   "cell_type": "code",
   "execution_count": 38,
   "metadata": {
    "ExecuteTime": {
     "end_time": "2024-07-25T15:20:47.747240Z",
     "start_time": "2024-07-25T15:20:47.691944Z"
    },
    "datalore": {
     "hide_input_from_viewers": false,
     "hide_output_from_viewers": false,
     "node_id": "nHS82l5mERFaDZpdEcRze9",
     "report_properties": {
      "rowId": "hzsNUSd4TUoBlAhx5LtpEZ"
     },
     "type": "CODE"
    }
   },
   "outputs": [],
   "source": [
    "for location in locations:\n",
    "    ws.append(get_number_of_jobs_L(location))"
   ]
  },
  {
   "attachments": {},
   "cell_type": "markdown",
   "metadata": {
    "datalore": {
     "hide_input_from_viewers": false,
     "hide_output_from_viewers": false,
     "node_id": "3sybSIAOFMrNeYjoCJCh91",
     "report_properties": {
      "rowId": "KjTnpNjbA8wMytpFCmEtNR"
     },
     "type": "MD"
    }
   },
   "source": [
    "Save into an excel spreadsheet named 'job-postings.xlsx'."
   ]
  },
  {
   "cell_type": "code",
   "execution_count": 39,
   "metadata": {
    "ExecuteTime": {
     "end_time": "2024-07-25T15:20:48.880514Z",
     "start_time": "2024-07-25T15:20:48.873634Z"
    },
    "datalore": {
     "hide_input_from_viewers": false,
     "hide_output_from_viewers": false,
     "node_id": "rSazoVttfDMyO9H2fnIi0M",
     "report_properties": {
      "rowId": "y7rOowzvbvPFtPA5MPr7gN"
     },
     "type": "CODE"
    }
   },
   "outputs": [],
   "source": [
    "#your code goes here\n",
    "wb.save(\"job-postings.xlsx\")"
   ]
  },
  {
   "attachments": {},
   "cell_type": "markdown",
   "metadata": {
    "datalore": {
     "hide_input_from_viewers": false,
     "hide_output_from_viewers": false,
     "node_id": "g0NVA7W47OaceWKqe60RtC",
     "report_properties": {
      "rowId": "zlcndtuHPGKmcWii4t3261"
     },
     "type": "MD"
    }
   },
   "source": [
    "#### In the similar way, you can try for below given technologies and results  can be stored in an excel sheet."
   ]
  },
  {
   "attachments": {},
   "cell_type": "markdown",
   "metadata": {
    "datalore": {
     "hide_input_from_viewers": false,
     "hide_output_from_viewers": false,
     "node_id": "gwMrhCkkMYmCys9SVgXueg",
     "report_properties": {
      "rowId": "ZfwFJ4xI4994RGV1djissi"
     },
     "type": "MD"
    }
   },
   "source": [
    "Collect the number of job postings for the following languages using the API:\n",
    "\n",
    "*   C\n",
    "*   C#\n",
    "*   C++\n",
    "*   Java\n",
    "*   JavaScript\n",
    "*   Python\n",
    "*   Scala\n",
    "*   Oracle\n",
    "*   SQL Server\n",
    "*   MySQL Server\n",
    "*   PostgreSQL\n",
    "*   MongoDB"
   ]
  },
  {
   "cell_type": "code",
   "execution_count": 40,
   "metadata": {
    "ExecuteTime": {
     "end_time": "2024-07-25T15:20:50.403796Z",
     "start_time": "2024-07-25T15:20:50.275922Z"
    },
    "datalore": {
     "hide_input_from_viewers": false,
     "hide_output_from_viewers": false,
     "node_id": "qhmmWoXtPem1JJBIR0Nbqt",
     "report_properties": {
      "rowId": "Hpo7V40kfOM49R2tE9kBOC"
     },
     "type": "CODE"
    }
   },
   "outputs": [
    {
     "name": "stdout",
     "output_type": "stream",
     "text": [
      "('C', 7149)\n",
      "('C#', 89)\n",
      "('C++', 7149)\n",
      "('Java', 850)\n",
      "('JavaScript', 37)\n",
      "('Python', 191)\n",
      "('Scala', 9)\n",
      "('Oracle', 190)\n",
      "('SQL Server', 34)\n",
      "('MySQL Server', 0)\n",
      "('PostgreSQL', 0)\n",
      "('MongoDB', 0)\n"
     ]
    }
   ],
   "source": [
    "# your code goes here\n",
    "languages = [\"C\", \"C#\", \"C++\", \"Java\", \"JavaScript\", \"Python\", \"Scala\", \"Oracle\", \"SQL Server\", \"MySQL Server\", \"PostgreSQL\", \"MongoDB\"]\n",
    "\n",
    "for lang in languages:\n",
    "    print(get_number_of_jobs_T(lang))"
   ]
  },
  {
   "attachments": {},
   "cell_type": "markdown",
   "metadata": {
    "datalore": {
     "hide_input_from_viewers": false,
     "hide_output_from_viewers": false,
     "node_id": "tyKjlEkCuvFz7QHnMKrzgO",
     "report_properties": {
      "rowId": "904dkIioWzQ9D6qaoVPnZz"
     },
     "type": "MD"
    }
   },
   "source": [
    "## Author"
   ]
  },
  {
   "attachments": {},
   "cell_type": "markdown",
   "metadata": {
    "datalore": {
     "hide_input_from_viewers": false,
     "hide_output_from_viewers": false,
     "node_id": "P7HXYUHZwZGmrzooEDImTc",
     "report_properties": {
      "rowId": "5voONeJEZzmSrQB0MBptG2"
     },
     "type": "MD"
    }
   },
   "source": [
    "Ayushi Jain"
   ]
  },
  {
   "attachments": {},
   "cell_type": "markdown",
   "metadata": {
    "datalore": {
     "hide_input_from_viewers": false,
     "hide_output_from_viewers": false,
     "node_id": "leaRjSle4uI0ybiI8OiUpG",
     "report_properties": {
      "rowId": "7mHYOCqfle6tsGD1iPaXs3"
     },
     "type": "MD"
    }
   },
   "source": [
    "### Other Contributors"
   ]
  },
  {
   "attachments": {},
   "cell_type": "markdown",
   "metadata": {
    "datalore": {
     "hide_input_from_viewers": false,
     "hide_output_from_viewers": false,
     "node_id": "bIvUexJNHINvigvRhmLrGd",
     "report_properties": {
      "rowId": "o00dwcuVRPwu6yekKvHxBx"
     },
     "type": "MD"
    }
   },
   "source": [
    "Rav Ahuja\n",
    "\n",
    "Lakshmi Holla\n",
    "\n",
    "Malika"
   ]
  },
  {
   "attachments": {},
   "cell_type": "markdown",
   "metadata": {
    "datalore": {
     "hide_input_from_viewers": false,
     "hide_output_from_viewers": false,
     "node_id": "BqDafwBulRH15M4ga2ZXxc",
     "report_properties": {
      "rowId": "auJuH9e0D7FsXCTY3TlLoI"
     },
     "type": "MD"
    }
   },
   "source": [
    "## Change Log"
   ]
  },
  {
   "attachments": {},
   "cell_type": "markdown",
   "metadata": {
    "datalore": {
     "hide_input_from_viewers": false,
     "hide_output_from_viewers": false,
     "node_id": "6YQHYyXvztKOquljfXbWRX",
     "report_properties": {
      "rowId": "EfMzWlxOIKQXRfrTRUCAlL"
     },
     "type": "MD"
    }
   },
   "source": [
    "| Date (YYYY-MM-DD) | Version | Changed By        | Change Description                 |\n",
    "| ----------------- | ------- | ----------------- | ---------------------------------- | \n",
    "| 2022-01-19        | 0.3     | Lakshmi Holla        | Added changes in the markdown      |\n",
    "| 2021-06-25        | 0.2     | Malika            | Updated GitHub job json link       |\n",
    "| 2020-10-17        | 0.1     | Ramesh Sannareddy | Created initial version of the lab |"
   ]
  },
  {
   "attachments": {},
   "cell_type": "markdown",
   "metadata": {
    "datalore": {
     "hide_input_from_viewers": false,
     "hide_output_from_viewers": false,
     "node_id": "YQQiSvqUqHWseuDVjTcyT2",
     "report_properties": {
      "rowId": "Iyp0AAIn6qEHMvztghTcvZ"
     },
     "type": "MD"
    }
   },
   "source": [
    "Copyright © 2022 IBM Corporation. All rights reserved. "
   ]
  }
 ],
 "metadata": {
  "datalore": {
   "base_environment": "default",
   "computation_mode": "JUPYTER",
   "package_manager": "pip",
   "packages": [],
   "report_row_ids": [
    "xmdK5zTjHBA9ceabG0ErYs",
    "957ekfbwuVIMAhHFF3zj0J",
    "VOEriwPGtfaniNb6j9nxA2",
    "7EVri2RxtKd6132m1fLpD2",
    "uLINifUW1F1FvpCoAaOvsH",
    "BHN4PTP5KaI9R93mJIDpB0",
    "RaEbUykT1pAH6GVVQLJ0Hc",
    "ZLrhzKBp1KvK2twCbQEkgw",
    "BSsO1c3KwZzX8DtKirdifO",
    "GWExl8lOwSmS16DZEikRqN",
    "N3yLMdgbgXhwqT1iWxFe1n",
    "2IWoB1uvtCwZt9nCzHOz0G",
    "n0dUT3MHmN4AXDF2F3InlE",
    "d4EOfqCa0uhF1na8soCG0l",
    "bWst774hMA8fLvfgVaDhES",
    "Rh8ljAcw9cYmQlcoMdEqTv",
    "lfFHqfOzkGLL0IZ4WVsgG1",
    "W9rgTMqqLraMHYKXboH38G",
    "iMLsA27x6jgKTE2SK5Yu7A",
    "RlhKN2z3yQ8rcfVHx17ldS",
    "yqywBql7TumdxNvLkDIDqv",
    "QoA04eZFZfszNPjiQxO6yH",
    "rvZ0ZDRtZlWRAq4GZ9j1U7",
    "Cbdj6PM2CWyTjvYnt0Ygqz",
    "EthVn3zZQD5XC3hVtjMYZK",
    "hbvGeSsnRSZCyJKBRENhBa",
    "g2w3BcOqzbcpKEZNvdIBaT",
    "OqmNAzoQXxXCIwvUr8Vcae",
    "x7NU97c41CpZRl0BkgIxKu",
    "XLxamL9SOfrXyZDvxJEEy2",
    "aEKVdq65wDhn8YYXFNeU5R",
    "cpreYf07VyUEXr3Qa9lPgm",
    "T7afKg6pOwEueKTFuS9Jtg",
    "jpKbMu0dUUQxdKDNbVaQRo",
    "xxeIGJoIUroQivAgsaNnqR",
    "Xp82UFIQ8Vs1gdp2ySbgoF",
    "SBPKjxysVJjG2NzOF2bsZc",
    "ng7vWsvJr3BPKYMdoM3kbs",
    "2l10wIzZp6C1WgwJl33T76",
    "l1yTGrqWsWExaoreXu6FHV",
    "78isP030u1VNwDNhXT0VhC",
    "Df0G0C2AXoDAxHOdAwB7gI",
    "0eEzmtwFovmF77vLfZVyOW",
    "9KVg9Ryurz0UXahbPVfGTa",
    "1ZwTfvMKLHneBNWJHn2rUX",
    "hzsNUSd4TUoBlAhx5LtpEZ",
    "KjTnpNjbA8wMytpFCmEtNR",
    "y7rOowzvbvPFtPA5MPr7gN",
    "zlcndtuHPGKmcWii4t3261",
    "ZfwFJ4xI4994RGV1djissi",
    "Hpo7V40kfOM49R2tE9kBOC",
    "904dkIioWzQ9D6qaoVPnZz",
    "5voONeJEZzmSrQB0MBptG2",
    "7mHYOCqfle6tsGD1iPaXs3",
    "o00dwcuVRPwu6yekKvHxBx",
    "auJuH9e0D7FsXCTY3TlLoI",
    "EfMzWlxOIKQXRfrTRUCAlL",
    "Iyp0AAIn6qEHMvztghTcvZ"
   ],
   "version": 3
  },
  "kernelspec": {
   "display_name": "Python 3 (ipykernel)",
   "language": "python",
   "name": "python3"
  },
  "language_info": {
   "codemirror_mode": {
    "name": "ipython",
    "version": 3
   },
   "file_extension": ".py",
   "mimetype": "text/x-python",
   "name": "python",
   "nbconvert_exporter": "python",
   "pygments_lexer": "ipython3",
   "version": "3.11.2"
  }
 },
 "nbformat": 4,
 "nbformat_minor": 4
}
