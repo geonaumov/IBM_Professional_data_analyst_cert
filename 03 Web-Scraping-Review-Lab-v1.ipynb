{
 "cells": [
  {
   "cell_type": "markdown",
   "source": [
    "<p style=\"text-align:center\">\n",
    "    <a href=\"https://skills.network/?utm_medium=Exinfluencer&utm_source=Exinfluencer&utm_content=000026UJ&utm_term=10006555&utm_id=NA-SkillsNetwork-Channel-SkillsNetworkCoursesIBMDA0321ENSkillsNetwork928-2022-01-01\" target=\"_blank\">\n",
    "    <img src=\"https://cf-courses-data.s3.us.cloud-object-storage.appdomain.cloud/assets/logos/SN_web_lightmode.png\" width=\"200\" alt=\"Skills Network Logo\"  />\n",
    "    </a>\n",
    "</p>"
   ],
   "attachments": {},
   "metadata": {
    "datalore": {
     "node_id": "yVjR01yBkcSzJgghL4aTDn",
     "type": "MD",
     "hide_input_from_viewers": false,
     "hide_output_from_viewers": false,
     "report_properties": {
      "rowId": "1VVgkSisWbWqXKEYApPNkA"
     }
    }
   }
  },
  {
   "cell_type": "markdown",
   "source": [
    "# **Web Scraping Lab**"
   ],
   "attachments": {},
   "metadata": {
    "datalore": {
     "node_id": "4PfJSKMJQKM9xMWQwZUnoW",
     "type": "MD",
     "hide_input_from_viewers": false,
     "hide_output_from_viewers": false,
     "report_properties": {
      "rowId": "yKhHbQ3hL3zdrQaKniQJfc"
     }
    }
   }
  },
  {
   "cell_type": "markdown",
   "source": [
    "Estimated time needed: **30** minutes"
   ],
   "attachments": {},
   "metadata": {
    "datalore": {
     "node_id": "yXclrokkm19Je4fHNKFEbY",
     "type": "MD",
     "hide_input_from_viewers": false,
     "hide_output_from_viewers": false,
     "report_properties": {
      "rowId": "q58xCLChu3N2caZFbN9Qe0"
     }
    }
   }
  },
  {
   "cell_type": "markdown",
   "source": [
    "## Objectives"
   ],
   "attachments": {},
   "metadata": {
    "datalore": {
     "node_id": "C1a3SLTEGUFJQBF4tXyB7u",
     "type": "MD",
     "hide_input_from_viewers": false,
     "hide_output_from_viewers": false,
     "report_properties": {
      "rowId": "6VnHXK6kSFiOMyU7e72o9w"
     }
    }
   }
  },
  {
   "cell_type": "markdown",
   "source": [
    "After completing this lab you will be able to:"
   ],
   "attachments": {},
   "metadata": {
    "datalore": {
     "node_id": "Yfpw4VxbkhJWJpem1olDlb",
     "type": "MD",
     "hide_input_from_viewers": false,
     "hide_output_from_viewers": false,
     "report_properties": {
      "rowId": "aiHpw6IZk5Gc8vCIAzbQ03"
     }
    }
   }
  },
  {
   "cell_type": "markdown",
   "source": [
    "* Download a webpage using requests module\n",
    "* Scrape all links from a web page\n",
    "* Scrape all image urls from a web page\n",
    "* Scrape data from html tables"
   ],
   "attachments": {},
   "metadata": {
    "datalore": {
     "node_id": "IhcRsjcoKFOcCGQ8hHXPZ9",
     "type": "MD",
     "hide_input_from_viewers": false,
     "hide_output_from_viewers": false,
     "report_properties": {
      "rowId": "QAYn9V4sB8IgQRTjv3kjXN"
     }
    }
   }
  },
  {
   "cell_type": "markdown",
   "source": [
    "## Scrape www.ibm.com"
   ],
   "attachments": {},
   "metadata": {
    "datalore": {
     "node_id": "d5La6EjoTeHktaUivCRREn",
     "type": "MD",
     "hide_input_from_viewers": false,
     "hide_output_from_viewers": false,
     "report_properties": {
      "rowId": "jZoXZLcLbpWH3KfmKOlif6"
     }
    }
   }
  },
  {
   "cell_type": "markdown",
   "source": [
    "Import the required modules and functions"
   ],
   "attachments": {},
   "metadata": {
    "datalore": {
     "node_id": "uv3IDFZCCej27H60rQbjfd",
     "type": "MD",
     "hide_input_from_viewers": false,
     "hide_output_from_viewers": false,
     "report_properties": {
      "rowId": "0nobbfUIn6tuaZJAjUS7Zz"
     }
    }
   }
  },
  {
   "cell_type": "code",
   "source": [
    "from bs4 import BeautifulSoup # this module helps in web scrapping.\n",
    "import requests  # this module helps us to download a web page"
   ],
   "metadata": {
    "datalore": {
     "node_id": "WGbwoYXeMD2ymY0pPpkZk3",
     "type": "CODE",
     "hide_input_from_viewers": false,
     "hide_output_from_viewers": false,
     "report_properties": {
      "rowId": "JmnSXKY9XXbVjRtqUw6CS8"
     }
    },
    "ExecuteTime": {
     "end_time": "2024-07-25T16:16:37.784463Z",
     "start_time": "2024-07-25T16:16:37.699646Z"
    }
   },
   "outputs": [],
   "execution_count": 1
  },
  {
   "cell_type": "markdown",
   "source": [
    "Download the contents of the web page"
   ],
   "attachments": {},
   "metadata": {
    "datalore": {
     "node_id": "3aJT6oZJA0ChHkQfRisa14",
     "type": "MD",
     "hide_input_from_viewers": false,
     "hide_output_from_viewers": false,
     "report_properties": {
      "rowId": "AKlIxyspa6nd7F19zlDKcj"
     }
    }
   }
  },
  {
   "cell_type": "code",
   "source": [
    "url = \"http://www.ibm.com\""
   ],
   "metadata": {
    "datalore": {
     "node_id": "4lc2VzowhFRL1dCClODxEu",
     "type": "CODE",
     "hide_input_from_viewers": false,
     "hide_output_from_viewers": false,
     "report_properties": {
      "rowId": "jllK2gd17cdyF86ticUeR6"
     }
    },
    "ExecuteTime": {
     "end_time": "2024-07-25T16:16:37.787528Z",
     "start_time": "2024-07-25T16:16:37.785527Z"
    }
   },
   "outputs": [],
   "execution_count": 2
  },
  {
   "cell_type": "code",
   "source": [
    "# get the contents of the webpage in text format and store in a variable called data\n",
    "data  = requests.get(url).text "
   ],
   "metadata": {
    "datalore": {
     "node_id": "2Uam3YsMceJkJiPOOQctmK",
     "type": "CODE",
     "hide_input_from_viewers": false,
     "hide_output_from_viewers": false,
     "report_properties": {
      "rowId": "jmaglyi63mvtmpsO2h15Ph"
     }
    },
    "ExecuteTime": {
     "end_time": "2024-07-25T16:16:38.296289Z",
     "start_time": "2024-07-25T16:16:37.788284Z"
    }
   },
   "outputs": [],
   "execution_count": 3
  },
  {
   "cell_type": "markdown",
   "source": [
    "Create a soup object using the class BeautifulSoup"
   ],
   "attachments": {},
   "metadata": {
    "datalore": {
     "node_id": "gIBgAgniQwZSE1tuqLWpkS",
     "type": "MD",
     "hide_input_from_viewers": false,
     "hide_output_from_viewers": false,
     "report_properties": {
      "rowId": "XhehXMM9DbF4YpzrMqjSj3"
     }
    }
   }
  },
  {
   "cell_type": "code",
   "source": [
    "soup = BeautifulSoup(data,\"html.parser\")  # create a soup object using the variable 'data'"
   ],
   "metadata": {
    "datalore": {
     "node_id": "YlA0oUfTUcyzk2HG6L9V8I",
     "type": "CODE",
     "hide_input_from_viewers": false,
     "hide_output_from_viewers": false,
     "report_properties": {
      "rowId": "GDdbKkmYC6BrQOUIc17kVN"
     }
    },
    "ExecuteTime": {
     "end_time": "2024-07-25T16:16:38.327623Z",
     "start_time": "2024-07-25T16:16:38.298377Z"
    }
   },
   "outputs": [],
   "execution_count": 4
  },
  {
   "cell_type": "markdown",
   "source": [
    "Scrape all links"
   ],
   "attachments": {},
   "metadata": {
    "datalore": {
     "node_id": "5JRGx253GXOvqz4PNGzZxB",
     "type": "MD",
     "hide_input_from_viewers": false,
     "hide_output_from_viewers": false,
     "report_properties": {
      "rowId": "JJOPrIHvIwenOikdWWiOdj"
     }
    }
   }
  },
  {
   "cell_type": "code",
   "source": [
    "for link in soup.find_all('a'):  # in html anchor/link is represented by the tag <a>\n",
    "    print(link.get('href'))"
   ],
   "metadata": {
    "datalore": {
     "node_id": "bgAvvh4FQ9d3X0uetNjQcO",
     "type": "CODE",
     "hide_input_from_viewers": false,
     "hide_output_from_viewers": false,
     "report_properties": {
      "rowId": "vPEDoe0LlYbGefdmxRJwoM"
     }
    },
    "ExecuteTime": {
     "end_time": "2024-07-25T16:16:38.332807Z",
     "start_time": "2024-07-25T16:16:38.329692Z"
    }
   },
   "outputs": [
    {
     "name": "stdout",
     "output_type": "stream",
     "text": [
      "https://www.ibm.com/hybrid-cloud?lnk=hpUSbt1\n",
      "https://www.ibm.com/consulting\n"
     ]
    }
   ],
   "execution_count": 5
  },
  {
   "cell_type": "markdown",
   "source": [
    "Scrape  all images"
   ],
   "attachments": {},
   "metadata": {
    "datalore": {
     "node_id": "Ppcg58YAvzBbmbFfOiWiPl",
     "type": "MD",
     "hide_input_from_viewers": false,
     "hide_output_from_viewers": false,
     "report_properties": {
      "rowId": "jbSQG4rtAIjJ5dvILrvcmB"
     }
    }
   }
  },
  {
   "cell_type": "code",
   "source": [
    "for link in soup.find_all('img'):# in html image is represented by the tag <img>\n",
    "    print(link.get('src'))"
   ],
   "metadata": {
    "datalore": {
     "node_id": "e7vTCdXrrK4ZxTiZuA51pY",
     "type": "CODE",
     "hide_input_from_viewers": false,
     "hide_output_from_viewers": false,
     "report_properties": {
      "rowId": "E36pbtECzB4VSyrE8U23YO"
     }
    },
    "ExecuteTime": {
     "end_time": "2024-07-25T16:16:38.336755Z",
     "start_time": "2024-07-25T16:16:38.334127Z"
    }
   },
   "outputs": [],
   "execution_count": 6
  },
  {
   "cell_type": "markdown",
   "source": [
    "## Scrape data from html tables"
   ],
   "attachments": {},
   "metadata": {
    "datalore": {
     "node_id": "lat6QCqJaO1ZmG0N8RLCqQ",
     "type": "MD",
     "hide_input_from_viewers": false,
     "hide_output_from_viewers": false,
     "report_properties": {
      "rowId": "0b52uId3qTVh5MzaEKzbtn"
     }
    }
   }
  },
  {
   "cell_type": "code",
   "source": [
    "#The below url contains a html table with data about colors and color codes."
   ],
   "metadata": {
    "datalore": {
     "node_id": "J1X9zAIPOfFar8GJcU4xkQ",
     "type": "CODE",
     "hide_input_from_viewers": false,
     "hide_output_from_viewers": false,
     "report_properties": {
      "rowId": "HcCiHmmVRwpnOuxh7IUwjc"
     }
    },
    "ExecuteTime": {
     "end_time": "2024-07-25T16:16:38.340801Z",
     "start_time": "2024-07-25T16:16:38.337791Z"
    }
   },
   "outputs": [],
   "execution_count": 7
  },
  {
   "cell_type": "code",
   "source": [
    "url = \"https://cf-courses-data.s3.us.cloud-object-storage.appdomain.cloud/IBM-DA0321EN-SkillsNetwork/labs/datasets/HTMLColorCodes.html\""
   ],
   "metadata": {
    "datalore": {
     "node_id": "QTmqSdEV1TOhKcKAa2pRzS",
     "type": "CODE",
     "hide_input_from_viewers": false,
     "hide_output_from_viewers": false,
     "report_properties": {
      "rowId": "Pazs3uHXygmME0HpUEgLGb"
     }
    },
    "ExecuteTime": {
     "end_time": "2024-07-25T16:16:38.344348Z",
     "start_time": "2024-07-25T16:16:38.341609Z"
    }
   },
   "outputs": [],
   "execution_count": 8
  },
  {
   "cell_type": "markdown",
   "source": [
    "Before proceeding to scrape a web site, you need to examine the contents, and the way data is organized on the website. Open the above url in your browser and check how many rows and columns are there in the color table."
   ],
   "attachments": {},
   "metadata": {
    "datalore": {
     "node_id": "ScWh0aGJ4HlAsly8VilmLv",
     "type": "MD",
     "hide_input_from_viewers": false,
     "hide_output_from_viewers": false,
     "report_properties": {
      "rowId": "OkPCFP5vyD5Klc3mIZw4RH"
     }
    }
   }
  },
  {
   "cell_type": "code",
   "source": [
    "# get the contents of the webpage in text format and store in a variable called data\n",
    "data  = requests.get(url).text"
   ],
   "metadata": {
    "datalore": {
     "node_id": "QpKdMm0PxxwQjBA2XH9M0Z",
     "type": "CODE",
     "hide_input_from_viewers": false,
     "hide_output_from_viewers": false,
     "report_properties": {
      "rowId": "J4OejM9qITR1rxqgU5jtfq"
     }
    },
    "ExecuteTime": {
     "end_time": "2024-07-25T16:16:39.899428Z",
     "start_time": "2024-07-25T16:16:38.345066Z"
    }
   },
   "outputs": [],
   "execution_count": 9
  },
  {
   "cell_type": "code",
   "source": [
    "soup = BeautifulSoup(data,\"html.parser\")"
   ],
   "metadata": {
    "datalore": {
     "node_id": "1hY4brDCVTpdgxdBOQOg1L",
     "type": "CODE",
     "hide_input_from_viewers": false,
     "hide_output_from_viewers": false,
     "report_properties": {
      "rowId": "59P5XJcWQgGHIVFnQPRC8o"
     }
    },
    "ExecuteTime": {
     "end_time": "2024-07-25T16:16:39.911755Z",
     "start_time": "2024-07-25T16:16:39.901561Z"
    }
   },
   "outputs": [],
   "execution_count": 10
  },
  {
   "cell_type": "code",
   "source": [
    "#find a html table in the web page\n",
    "table = soup.find('table') # in html table is represented by the tag <table>"
   ],
   "metadata": {
    "datalore": {
     "node_id": "gI4mltT8So4TPjU3pYu7gc",
     "type": "CODE",
     "hide_input_from_viewers": false,
     "hide_output_from_viewers": false,
     "report_properties": {
      "rowId": "d6rz8PptLOHFpKsRBU7TI7"
     }
    },
    "ExecuteTime": {
     "end_time": "2024-07-25T16:16:39.916357Z",
     "start_time": "2024-07-25T16:16:39.912540Z"
    }
   },
   "outputs": [],
   "execution_count": 11
  },
  {
   "cell_type": "code",
   "source": [
    "#Get all rows from the table\n",
    "for row in table.find_all('tr'): # in html table row is represented by the tag <tr>\n",
    "    # Get all columns in each row.\n",
    "    cols = row.find_all('td') # in html a column is represented by the tag <td>\n",
    "    color_name = cols[2].getText() # store the value in column 3 as color_name\n",
    "    color_code = cols[3].getText() # store the value in column 4 as color_code\n",
    "    print(\"{}--->{}\".format(color_name,color_code))"
   ],
   "metadata": {
    "datalore": {
     "node_id": "sNhrI3B1WAcqczv6eHh2wm",
     "type": "CODE",
     "hide_input_from_viewers": false,
     "hide_output_from_viewers": false,
     "report_properties": {
      "rowId": "coBSBUjkH5NP2acItAdC9g"
     }
    },
    "ExecuteTime": {
     "end_time": "2024-07-25T16:16:39.921058Z",
     "start_time": "2024-07-25T16:16:39.917263Z"
    }
   },
   "outputs": [
    {
     "name": "stdout",
     "output_type": "stream",
     "text": [
      "Color Name--->Hex Code#RRGGBB\n",
      "lightsalmon--->#FFA07A\n",
      "salmon--->#FA8072\n",
      "darksalmon--->#E9967A\n",
      "lightcoral--->#F08080\n",
      "coral--->#FF7F50\n",
      "tomato--->#FF6347\n",
      "orangered--->#FF4500\n",
      "gold--->#FFD700\n",
      "orange--->#FFA500\n",
      "darkorange--->#FF8C00\n",
      "lightyellow--->#FFFFE0\n",
      "lemonchiffon--->#FFFACD\n",
      "papayawhip--->#FFEFD5\n",
      "moccasin--->#FFE4B5\n",
      "peachpuff--->#FFDAB9\n",
      "palegoldenrod--->#EEE8AA\n",
      "khaki--->#F0E68C\n",
      "darkkhaki--->#BDB76B\n",
      "yellow--->#FFFF00\n",
      "lawngreen--->#7CFC00\n",
      "chartreuse--->#7FFF00\n",
      "limegreen--->#32CD32\n",
      "lime--->#00FF00\n",
      "forestgreen--->#228B22\n",
      "green--->#008000\n",
      "powderblue--->#B0E0E6\n",
      "lightblue--->#ADD8E6\n",
      "lightskyblue--->#87CEFA\n",
      "skyblue--->#87CEEB\n",
      "deepskyblue--->#00BFFF\n",
      "lightsteelblue--->#B0C4DE\n",
      "dodgerblue--->#1E90FF\n"
     ]
    }
   ],
   "execution_count": 12
  },
  {
   "cell_type": "markdown",
   "source": [
    "## Authors"
   ],
   "attachments": {},
   "metadata": {
    "datalore": {
     "node_id": "gpRqIdJzseCBe8OxvImoja",
     "type": "MD",
     "hide_input_from_viewers": false,
     "hide_output_from_viewers": false,
     "report_properties": {
      "rowId": "dBRwxMiPLRIHTHmQttRqE9"
     }
    }
   }
  },
  {
   "cell_type": "markdown",
   "source": [
    "Ramesh Sannareddy"
   ],
   "attachments": {},
   "metadata": {
    "datalore": {
     "node_id": "xfHAilSmKtt3y02kWDbvVw",
     "type": "MD",
     "hide_input_from_viewers": false,
     "hide_output_from_viewers": false,
     "report_properties": {
      "rowId": "HJZbEavAqr4FTACa5lXpIi"
     }
    }
   }
  },
  {
   "cell_type": "markdown",
   "source": [
    "### Other Contributors"
   ],
   "attachments": {},
   "metadata": {
    "datalore": {
     "node_id": "1Xi7IjOW1Fj1MurE3BzkqC",
     "type": "MD",
     "hide_input_from_viewers": false,
     "hide_output_from_viewers": false,
     "report_properties": {
      "rowId": "s7slOUlYeWKocs88hkj9Jk"
     }
    }
   }
  },
  {
   "cell_type": "markdown",
   "source": [
    "Rav Ahuja"
   ],
   "attachments": {},
   "metadata": {
    "datalore": {
     "node_id": "jdT2I45mjWaaUoFVKWLe3u",
     "type": "MD",
     "hide_input_from_viewers": false,
     "hide_output_from_viewers": false,
     "report_properties": {
      "rowId": "QmskEeMX111H1mqpuWqZ0B"
     }
    }
   }
  },
  {
   "cell_type": "markdown",
   "source": [
    " Copyright &copy; 2020 IBM Corporation. This notebook and its source code are released under the terms of the [MIT License](https://cognitiveclass.ai/mit-license/?utm_medium=Exinfluencer&utm_source=Exinfluencer&utm_content=000026UJ&utm_term=10006555&utm_id=NA-SkillsNetwork-Channel-SkillsNetworkCoursesIBMDA0321ENSkillsNetwork928-2022-01-01)."
   ],
   "attachments": {},
   "metadata": {
    "datalore": {
     "node_id": "TSrAxze1yJdUu5ntEFNq6J",
     "type": "MD",
     "hide_input_from_viewers": false,
     "hide_output_from_viewers": false,
     "report_properties": {
      "rowId": "yaIkoygSfjpNEjHm7uLYoy"
     }
    }
   }
  },
  {
   "cell_type": "markdown",
   "source": [
    "<!--## Change Log"
   ],
   "attachments": {},
   "metadata": {
    "datalore": {
     "node_id": "lrAsd5XoCexKJfvWW5jWUL",
     "type": "MD",
     "hide_input_from_viewers": false,
     "hide_output_from_viewers": false,
     "report_properties": {
      "rowId": "GKBNeZDE73tLUtD1ob22jZ"
     }
    }
   }
  },
  {
   "cell_type": "markdown",
   "source": [
    "<!--|  Date (YYYY-MM-DD) |  Version | Changed By  |  Change Description |\n",
    "|---|---|---|---|\n",
    "| 2020-10-17  | 0.1  | Ramesh Sannareddy  |  Created initial version of the lab |--!>"
   ],
   "attachments": {},
   "metadata": {
    "datalore": {
     "node_id": "pHyc7DgIkoEYhdW3LRGg0T",
     "type": "MD",
     "hide_input_from_viewers": false,
     "hide_output_from_viewers": false,
     "report_properties": {
      "rowId": "Tr14BIcAThc7VSCEOE9vUL"
     }
    }
   }
  }
 ],
 "metadata": {
  "kernelspec": {
   "display_name": "Python 3 (ipykernel)",
   "language": "python",
   "name": "python3"
  },
  "datalore": {
   "computation_mode": "JUPYTER",
   "package_manager": "pip",
   "base_environment": "default",
   "packages": [],
   "report_row_ids": [
    "1VVgkSisWbWqXKEYApPNkA",
    "yKhHbQ3hL3zdrQaKniQJfc",
    "q58xCLChu3N2caZFbN9Qe0",
    "6VnHXK6kSFiOMyU7e72o9w",
    "aiHpw6IZk5Gc8vCIAzbQ03",
    "QAYn9V4sB8IgQRTjv3kjXN",
    "jZoXZLcLbpWH3KfmKOlif6",
    "0nobbfUIn6tuaZJAjUS7Zz",
    "JmnSXKY9XXbVjRtqUw6CS8",
    "AKlIxyspa6nd7F19zlDKcj",
    "jllK2gd17cdyF86ticUeR6",
    "jmaglyi63mvtmpsO2h15Ph",
    "XhehXMM9DbF4YpzrMqjSj3",
    "GDdbKkmYC6BrQOUIc17kVN",
    "JJOPrIHvIwenOikdWWiOdj",
    "vPEDoe0LlYbGefdmxRJwoM",
    "jbSQG4rtAIjJ5dvILrvcmB",
    "E36pbtECzB4VSyrE8U23YO",
    "0b52uId3qTVh5MzaEKzbtn",
    "HcCiHmmVRwpnOuxh7IUwjc",
    "Pazs3uHXygmME0HpUEgLGb",
    "OkPCFP5vyD5Klc3mIZw4RH",
    "J4OejM9qITR1rxqgU5jtfq",
    "59P5XJcWQgGHIVFnQPRC8o",
    "d6rz8PptLOHFpKsRBU7TI7",
    "coBSBUjkH5NP2acItAdC9g",
    "dBRwxMiPLRIHTHmQttRqE9",
    "HJZbEavAqr4FTACa5lXpIi",
    "s7slOUlYeWKocs88hkj9Jk",
    "QmskEeMX111H1mqpuWqZ0B",
    "yaIkoygSfjpNEjHm7uLYoy",
    "GKBNeZDE73tLUtD1ob22jZ",
    "Tr14BIcAThc7VSCEOE9vUL"
   ],
   "version": 3
  }
 },
 "nbformat": 4,
 "nbformat_minor": 4
}
